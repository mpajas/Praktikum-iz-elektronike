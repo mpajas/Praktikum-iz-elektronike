{
 "cells": [
  {
   "cell_type": "code",
   "execution_count": 29,
   "metadata": {},
   "outputs": [],
   "source": [
    "import numpy as np\n",
    "import pandas as pd\n",
    "import matplotlib.pyplot as plt\n",
    "from scipy.optimize import curve_fit"
   ]
  },
  {
   "cell_type": "markdown",
   "metadata": {},
   "source": [
    "# Frekventna karakteristika FET sljedila"
   ]
  },
  {
   "cell_type": "code",
   "execution_count": 93,
   "metadata": {},
   "outputs": [],
   "source": [
    "R1 = 274\n",
    "R2 = 1554\n",
    "\n",
    "\n",
    "#[0,187]\n",
    "data  = [[3,181],\n",
    "[5.6,180],\n",
    "[8.5,179],\n",
    "[11,179],\n",
    "[13.6,178],\n",
    "[16.1,177],\n",
    "[18.5,176],\n",
    "[21.2,175],\n",
    "[21.6,175],\n",
    "[23.7,175],\n",
    "[25.7,174],\n",
    "[27.7,173],\n",
    "[29.8,173],\n",
    "[31,172]]"
   ]
  },
  {
   "cell_type": "code",
   "execution_count": 94,
   "metadata": {},
   "outputs": [],
   "source": [
    "df = pd.DataFrame(data, columns = [\"I\",\"V\"], \n",
    "                  index = range(1,len(data)+1))"
   ]
  },
  {
   "cell_type": "code",
   "execution_count": 95,
   "metadata": {},
   "outputs": [
    {
     "data": {
      "text/html": [
       "<div>\n",
       "<style scoped>\n",
       "    .dataframe tbody tr th:only-of-type {\n",
       "        vertical-align: middle;\n",
       "    }\n",
       "\n",
       "    .dataframe tbody tr th {\n",
       "        vertical-align: top;\n",
       "    }\n",
       "\n",
       "    .dataframe thead th {\n",
       "        text-align: right;\n",
       "    }\n",
       "</style>\n",
       "<table border=\"1\" class=\"dataframe\">\n",
       "  <thead>\n",
       "    <tr style=\"text-align: right;\">\n",
       "      <th></th>\n",
       "      <th>I</th>\n",
       "      <th>V</th>\n",
       "    </tr>\n",
       "  </thead>\n",
       "  <tbody>\n",
       "    <tr>\n",
       "      <th>1</th>\n",
       "      <td>3.0</td>\n",
       "      <td>181</td>\n",
       "    </tr>\n",
       "    <tr>\n",
       "      <th>2</th>\n",
       "      <td>5.6</td>\n",
       "      <td>180</td>\n",
       "    </tr>\n",
       "    <tr>\n",
       "      <th>3</th>\n",
       "      <td>8.5</td>\n",
       "      <td>179</td>\n",
       "    </tr>\n",
       "    <tr>\n",
       "      <th>4</th>\n",
       "      <td>11.0</td>\n",
       "      <td>179</td>\n",
       "    </tr>\n",
       "    <tr>\n",
       "      <th>5</th>\n",
       "      <td>13.6</td>\n",
       "      <td>178</td>\n",
       "    </tr>\n",
       "    <tr>\n",
       "      <th>6</th>\n",
       "      <td>16.1</td>\n",
       "      <td>177</td>\n",
       "    </tr>\n",
       "    <tr>\n",
       "      <th>7</th>\n",
       "      <td>18.5</td>\n",
       "      <td>176</td>\n",
       "    </tr>\n",
       "    <tr>\n",
       "      <th>8</th>\n",
       "      <td>21.2</td>\n",
       "      <td>175</td>\n",
       "    </tr>\n",
       "    <tr>\n",
       "      <th>9</th>\n",
       "      <td>21.6</td>\n",
       "      <td>175</td>\n",
       "    </tr>\n",
       "    <tr>\n",
       "      <th>10</th>\n",
       "      <td>23.7</td>\n",
       "      <td>175</td>\n",
       "    </tr>\n",
       "    <tr>\n",
       "      <th>11</th>\n",
       "      <td>25.7</td>\n",
       "      <td>174</td>\n",
       "    </tr>\n",
       "    <tr>\n",
       "      <th>12</th>\n",
       "      <td>27.7</td>\n",
       "      <td>173</td>\n",
       "    </tr>\n",
       "    <tr>\n",
       "      <th>13</th>\n",
       "      <td>29.8</td>\n",
       "      <td>173</td>\n",
       "    </tr>\n",
       "    <tr>\n",
       "      <th>14</th>\n",
       "      <td>31.0</td>\n",
       "      <td>172</td>\n",
       "    </tr>\n",
       "  </tbody>\n",
       "</table>\n",
       "</div>"
      ],
      "text/plain": [
       "       I    V\n",
       "1    3.0  181\n",
       "2    5.6  180\n",
       "3    8.5  179\n",
       "4   11.0  179\n",
       "5   13.6  178\n",
       "6   16.1  177\n",
       "7   18.5  176\n",
       "8   21.2  175\n",
       "9   21.6  175\n",
       "10  23.7  175\n",
       "11  25.7  174\n",
       "12  27.7  173\n",
       "13  29.8  173\n",
       "14  31.0  172"
      ]
     },
     "execution_count": 95,
     "metadata": {},
     "output_type": "execute_result"
    }
   ],
   "source": [
    "df"
   ]
  },
  {
   "cell_type": "code",
   "execution_count": 96,
   "metadata": {},
   "outputs": [],
   "source": [
    "from pylab import rcParams\n",
    "rcParams['figure.figsize'] = (14, 7)"
   ]
  },
  {
   "cell_type": "code",
   "execution_count": 97,
   "metadata": {},
   "outputs": [
    {
     "name": "stdout",
     "output_type": "stream",
     "text": [
      "a = -0.31253379737238257 ± 0.009465466231386643\n",
      "b = 181.9515132803359 ± 0.19223687561883845\n"
     ]
    },
    {
     "data": {
      "text/plain": [
       "'plt.figure(figsize=(14,8.5))\\nplt.scatter(Tk,gamma,linewidth=4)\\nplt.grid()\\nplt.plot(x_fit,y_fit,color=\"red\",linestyle=\"--\")\\nplt.xlim(30+273.15,95+273.15)\\nplt.ylim(0.02448,0.03116)\\nplt.xticks(fontsize=16)\\nplt.yticks(fontsize=16)\\n\\nplt.title(r\"Graf ovisnosti $T - \\\\gamma$\", fontsize=22)\\nplt.xlabel(r\"$T$ / $\\\\mathrm{K}$\",fontsize=22)\\nplt.ylabel(r\"$\\\\gamma$ / $\\\\mathrm{N/m}$\",fontsize=22);'"
      ]
     },
     "execution_count": 97,
     "metadata": {},
     "output_type": "execute_result"
    }
   ],
   "source": [
    "pars,cov=curve_fit(lambda x,a,b: a*x+b ,df[\"I\"],df[\"V\"])\n",
    "\n",
    "a=pars[0]\n",
    "b=pars[1]\n",
    "\n",
    "x_fit=np.linspace(-10,40)\n",
    "y_fit=a*x_fit+b\n",
    "\n",
    "print(\"a =\", pars[0],\"±\", np.sqrt(cov[0,0]))\n",
    "print(\"b =\",pars[1],\"±\", np.sqrt(cov[1,1]))\n",
    "\n",
    "\"\"\"plt.figure(figsize=(14,8.5))\n",
    "plt.scatter(Tk,gamma,linewidth=4)\n",
    "plt.grid()\n",
    "plt.plot(x_fit,y_fit,color=\"red\",linestyle=\"--\")\n",
    "plt.xlim(30+273.15,95+273.15)\n",
    "plt.ylim(0.02448,0.03116)\n",
    "plt.xticks(fontsize=16)\n",
    "plt.yticks(fontsize=16)\n",
    "\n",
    "plt.title(r\"Graf ovisnosti $T - \\gamma$\", fontsize=22)\n",
    "plt.xlabel(r\"$T$ / $\\mathrm{K}$\",fontsize=22)\n",
    "plt.ylabel(r\"$\\gamma$ / $\\mathrm{N/m}$\",fontsize=22);\"\"\""
   ]
  },
  {
   "cell_type": "code",
   "execution_count": 98,
   "metadata": {},
   "outputs": [
    {
     "data": {
      "image/png": "[encoded data removed]",
      "text/plain": [
       "<Figure size 1008x504 with 1 Axes>"
      ]
     },
     "metadata": {
      "needs_background": "light"
     },
     "output_type": "display_data"
    }
   ],
   "source": [
    "A0 = 0.85\n",
    "p1 = df.plot.scatter(x = \"I\", y = \"V\", color = \"black\", label = \"Izmjereni podaci\")\n",
    "plt.plot(x_fit,y_fit, color = \"red\", linestyle=\"--\", label = \"linearna regresija podataka\")\n",
    "#p1.set_xscale(\"log\")\n",
    "#p1.hlines(A0, 0, 1e7, color = \"green\", linewidth = 1.2, label=r\"A_0\")\n",
    "#p1.hlines(A0/np.sqrt(2), 0, 1e7, color = \"red\", linewidth = 1.2, label=(r\"$\\dfrac{A_0}{\\sqrt{2}}=$ \" + str(round(A0/np.sqrt(2),3))))\n",
    "p1.set_xlim(0,32)\n",
    "p1.set_ylim(171.9,182)\n",
    "p1.set_xlabel(\"$I \\ / \\ \\mathrm{mA}$\", size=22)\n",
    "p1.set_ylabel(\"$V_{\\mathrm{u}} \\ / \\ \\mathrm{V}$\", size=22)\n",
    "p1.tick_params(axis='both', which='major', labelsize=20)\n",
    "#p1.tick_params(axis=\"x\", labelsize=16, width=2, length=8)\n",
    "#p1.tick_params(axis=\"y\", labelsize=16, width=2, length=8)\n",
    "p1.legend(fontsize=22)\n",
    "p1.get_figure().savefig(\"UI_zad1.png\")"
   ]
  },
  {
   "cell_type": "markdown",
   "metadata": {},
   "source": [
    "$a = -0.313 \\pm 0.009$\n",
    "\n",
    "$b = 182.9 \\pm 0.2$"
   ]
  },
  {
   "cell_type": "markdown",
   "metadata": {},
   "source": [
    "$\\epsilon = U_{\\mathrm{unutarnji}} + U_{\\mathrm{mjereni}} = Ir + U_{\\mathrm{mjereni}}$\n",
    "\n",
    "$U_{\\mathrm{mjereni}} = -rI + \\epsilon$\n",
    "\n",
    "$-r = -a$\n",
    "\n",
    "$r = (0.313 \\pm 0.009) \\ \\mathrm{\\Omega}$\n",
    "\n",
    "$V_{\\mathrm{u}} = (182.9 \\pm 0.2) \\ \\mathrm{V}$"
   ]
  },
  {
   "cell_type": "markdown",
   "metadata": {},
   "source": [
    "# Frekventna karakteristika emiterskog sljedila"
   ]
  },
  {
   "cell_type": "code",
   "execution_count": 41,
   "metadata": {},
   "outputs": [],
   "source": [
    "data2 = [[0,6.94,6.86],\n",
    "[5,6.97,6.9],\n",
    "[10,7.23,7.25],\n",
    "[15,7.66,7.66],\n",
    "[20,8,8.02],\n",
    "[30,8.93,8.94],\n",
    "[40,10.12,10.12],\n",
    "[50,10.97,11],\n",
    "[60,12.67,12.72],\n",
    "[70,14.35,14.42],\n",
    "[80,16.24,18.01],\n",
    "[90,16.19,18],\n",
    "[100,16.21,17.94],]"
   ]
  },
  {
   "cell_type": "code",
   "execution_count": 42,
   "metadata": {},
   "outputs": [],
   "source": [
    "df2 = pd.DataFrame(data2, columns = [\"n\",\"v1\",\"v2\"])"
   ]
  },
  {
   "cell_type": "code",
   "execution_count": 43,
   "metadata": {},
   "outputs": [
    {
     "data": {
      "text/html": [
       "<div>\n",
       "<style scoped>\n",
       "    .dataframe tbody tr th:only-of-type {\n",
       "        vertical-align: middle;\n",
       "    }\n",
       "\n",
       "    .dataframe tbody tr th {\n",
       "        vertical-align: top;\n",
       "    }\n",
       "\n",
       "    .dataframe thead th {\n",
       "        text-align: right;\n",
       "    }\n",
       "</style>\n",
       "<table border=\"1\" class=\"dataframe\">\n",
       "  <thead>\n",
       "    <tr style=\"text-align: right;\">\n",
       "      <th></th>\n",
       "      <th>n</th>\n",
       "      <th>v1</th>\n",
       "      <th>v2</th>\n",
       "    </tr>\n",
       "  </thead>\n",
       "  <tbody>\n",
       "    <tr>\n",
       "      <th>0</th>\n",
       "      <td>0</td>\n",
       "      <td>6.94</td>\n",
       "      <td>6.86</td>\n",
       "    </tr>\n",
       "    <tr>\n",
       "      <th>1</th>\n",
       "      <td>5</td>\n",
       "      <td>6.97</td>\n",
       "      <td>6.90</td>\n",
       "    </tr>\n",
       "    <tr>\n",
       "      <th>2</th>\n",
       "      <td>10</td>\n",
       "      <td>7.23</td>\n",
       "      <td>7.25</td>\n",
       "    </tr>\n",
       "    <tr>\n",
       "      <th>3</th>\n",
       "      <td>15</td>\n",
       "      <td>7.66</td>\n",
       "      <td>7.66</td>\n",
       "    </tr>\n",
       "    <tr>\n",
       "      <th>4</th>\n",
       "      <td>20</td>\n",
       "      <td>8.00</td>\n",
       "      <td>8.02</td>\n",
       "    </tr>\n",
       "    <tr>\n",
       "      <th>5</th>\n",
       "      <td>30</td>\n",
       "      <td>8.93</td>\n",
       "      <td>8.94</td>\n",
       "    </tr>\n",
       "    <tr>\n",
       "      <th>6</th>\n",
       "      <td>40</td>\n",
       "      <td>10.12</td>\n",
       "      <td>10.12</td>\n",
       "    </tr>\n",
       "    <tr>\n",
       "      <th>7</th>\n",
       "      <td>50</td>\n",
       "      <td>10.97</td>\n",
       "      <td>11.00</td>\n",
       "    </tr>\n",
       "    <tr>\n",
       "      <th>8</th>\n",
       "      <td>60</td>\n",
       "      <td>12.67</td>\n",
       "      <td>12.72</td>\n",
       "    </tr>\n",
       "    <tr>\n",
       "      <th>9</th>\n",
       "      <td>70</td>\n",
       "      <td>14.35</td>\n",
       "      <td>14.42</td>\n",
       "    </tr>\n",
       "    <tr>\n",
       "      <th>10</th>\n",
       "      <td>80</td>\n",
       "      <td>16.24</td>\n",
       "      <td>18.01</td>\n",
       "    </tr>\n",
       "    <tr>\n",
       "      <th>11</th>\n",
       "      <td>90</td>\n",
       "      <td>16.19</td>\n",
       "      <td>18.00</td>\n",
       "    </tr>\n",
       "    <tr>\n",
       "      <th>12</th>\n",
       "      <td>100</td>\n",
       "      <td>16.21</td>\n",
       "      <td>17.94</td>\n",
       "    </tr>\n",
       "  </tbody>\n",
       "</table>\n",
       "</div>"
      ],
      "text/plain": [
       "      n     v1     v2\n",
       "0     0   6.94   6.86\n",
       "1     5   6.97   6.90\n",
       "2    10   7.23   7.25\n",
       "3    15   7.66   7.66\n",
       "4    20   8.00   8.02\n",
       "5    30   8.93   8.94\n",
       "6    40  10.12  10.12\n",
       "7    50  10.97  11.00\n",
       "8    60  12.67  12.72\n",
       "9    70  14.35  14.42\n",
       "10   80  16.24  18.01\n",
       "11   90  16.19  18.00\n",
       "12  100  16.21  17.94"
      ]
     },
     "execution_count": 43,
     "metadata": {},
     "output_type": "execute_result"
    }
   ],
   "source": [
    "df2"
   ]
  },
  {
   "cell_type": "code",
   "execution_count": 69,
   "metadata": {},
   "outputs": [
    {
     "data": {
      "image/png": "[encoded data removed]",
      "text/plain": [
       "<Figure size 1008x504 with 1 Axes>"
      ]
     },
     "metadata": {
      "needs_background": "light"
     },
     "output_type": "display_data"
    },
    {
     "data": {
      "image/png": "[encoded data removed]",
      "text/plain": [
       "<Figure size 1008x504 with 1 Axes>"
      ]
     },
     "metadata": {
      "needs_background": "light"
     },
     "output_type": "display_data"
    }
   ],
   "source": [
    "p1 = df2.plot(x = \"n\", y = [\"v1\",\"v2\"], color = [\"gray\",\"black\"], kind=\"bar\")\n",
    "p1.legend([\"$V_{1} \\ / \\ \\mathrm{V}$\",\"$V_{2} \\ / \\ \\mathrm{V}$\"], fontsize=22)\n",
    "p1.set_xlabel(\"n\", size=22)\n",
    "p1.set_ylabel(\"$U \\ / \\ \\mathrm{V}$\", size=22)\n",
    "\n",
    "fig = plt.figure()\n",
    "ax = fig.add_subplot(111)\n",
    "\n",
    "ax.scatter(df2[\"n\"], df2[\"v1\"], color = \"red\")\n",
    "ax.scatter(df2[\"n\"], df2[\"v2\"], color = \"black\")\n",
    "\n",
    "width = 2\n",
    "\n",
    "ax.bar(df2[\"n\"]-width/2,df2[\"v1\"]-4, width, color = \"red\")\n",
    "ax.bar(df2[\"n\"]+width/2,df2[\"v2\"]-4, width, color = \"black\")\n",
    "\n",
    "p1.tick_params(axis='both', which='major', labelsize=20)\n",
    "#p1.scatter(x = \"n\", y = \"v2\", color=\"red\")\n",
    "#df2.plot.scatter(x = \"n\", y = \"v2\", color = \"blue\", label=\"v2\")\n",
    "#p1.set_xscale(\"log\")\n",
    "#p1.hlines(A0, 0, 1e7, color = \"green\", linewidth = 1.2, label=r\"A_0\")\n",
    "#p1.hlines(A0/np.sqrt(2), 0, 1e7, color = \"red\", linewidth = 1.2, \n",
    "#          label=(r\"$\\dfrac{A_0}{\\sqrt{2}}=$ \" + str(round(A0/np.sqrt(2),3))))\n",
    "#p1.set_xlim(0,1e7)\n",
    "#p1.set_ylim(0.2,1.1)\n",
    "#p1.set_xlabel(\"$\\log{(f \\ / \\ \\mathrm{Hz})}$\", size=22)\n",
    "#p1.set_xlabel(\"$f \\ / \\ \\mathrm{Hz}$\", size=22)\n",
    "#p1.set_ylabel(\"$|A|$\", size=22)\n",
    "#p1.tick_params(axis=\"x\", labelsize=16, width=2, length=8)\n",
    "#p1.tick_params(axis=\"y\", labelsize=16, width=2, length=8)\n",
    "#p1.legend()\n",
    "p1.get_figure().savefig(\"stab_zad2.png\")\n",
    "fig.savefig(\"stab_zad2_v2.png\")"
   ]
  },
  {
   "cell_type": "code",
   "execution_count": 45,
   "metadata": {},
   "outputs": [
    {
     "name": "stdout",
     "output_type": "stream",
     "text": [
      "a = -0.6641147635475131 ± inf\n",
      "b = 9.041862464113864 ± inf\n"
     ]
    },
    {
     "name": "stderr",
     "output_type": "stream",
     "text": [
      "C:\\anaconda3\\lib\\site-packages\\scipy\\optimize\\minpack.py:808: OptimizeWarning: Covariance of the parameters could not be estimated\n",
      "  category=OptimizeWarning)\n"
     ]
    }
   ],
   "source": [
    "U = [9.02,9.038]\n",
    "I = [U[0]/R1, U[1]/R2]\n",
    "\n",
    "pars,cov=curve_fit(lambda x,a,b: a*x+b ,I,U)\n",
    "\n",
    "a=pars[0]\n",
    "b=pars[1]\n",
    "\n",
    "x_fit=np.linspace(-10,40)\n",
    "y_fit=a*x_fit+b\n",
    "\n",
    "print(\"a =\", pars[0],\"±\", np.sqrt(cov[0,0]))\n",
    "print(\"b =\",pars[1],\"±\", np.sqrt(cov[1,1]))"
   ]
  },
  {
   "cell_type": "code",
   "execution_count": 46,
   "metadata": {},
   "outputs": [
    {
     "name": "stdout",
     "output_type": "stream",
     "text": [
      "a = -812.5000000000007 ± inf\n",
      "b = 178.125 ± inf\n"
     ]
    }
   ],
   "source": [
    "U = [170,176.5]\n",
    "I = [0.01, 0.002]\n",
    "\n",
    "pars,cov=curve_fit(lambda x,a,b: a*x+b ,I,U)\n",
    "\n",
    "a=pars[0]\n",
    "b=pars[1]\n",
    "\n",
    "x_fit=np.linspace(0,1)\n",
    "y_fit=a*x_fit+b\n",
    "\n",
    "print(\"a =\", pars[0],\"±\", np.sqrt(cov[0,0]))\n",
    "print(\"b =\",pars[1],\"±\", np.sqrt(cov[1,1]))"
   ]
  },
  {
   "cell_type": "code",
   "execution_count": 81,
   "metadata": {},
   "outputs": [
    {
     "name": "stdout",
     "output_type": "stream",
     "text": [
      "a = -0.6641147635475131 ± inf\n",
      "b = 9.041862464113864 ± inf\n"
     ]
    },
    {
     "name": "stderr",
     "output_type": "stream",
     "text": [
      "C:\\anaconda3\\lib\\site-packages\\scipy\\optimize\\minpack.py:808: OptimizeWarning: Covariance of the parameters could not be estimated\n",
      "  category=OptimizeWarning)\n"
     ]
    }
   ],
   "source": [
    "U = [9.02,9.038]\n",
    "I = [U[0]/R1, U[1]/R2]\n",
    "\n",
    "pars,cov=curve_fit(lambda x,a,b: a*x+b ,I,U)\n",
    "\n",
    "a=pars[0]\n",
    "b=pars[1]\n",
    "\n",
    "x_fit=np.linspace(0,0.1)\n",
    "y_fit=a*x_fit+b\n",
    "\n",
    "print(\"a =\", pars[0],\"±\", np.sqrt(cov[0,0]))\n",
    "print(\"b =\",pars[1],\"±\", np.sqrt(cov[1,1]))"
   ]
  },
  {
   "cell_type": "code",
   "execution_count": 85,
   "metadata": {},
   "outputs": [
    {
     "data": {
      "image/png": "[encoded data removed]",
      "text/plain": [
       "<Figure size 1008x504 with 1 Axes>"
      ]
     },
     "metadata": {
      "needs_background": "light"
     },
     "output_type": "display_data"
    }
   ],
   "source": [
    "plt.scatter(I,U, color=\"black\", label=\"izmjereni podaci\")\n",
    "plt.plot(x_fit,y_fit, color = \"red\", linestyle=\"--\", label=\"linearna regresija podataka\")\n",
    "plt.xlim(0,0.04)\n",
    "plt.ylim(9.015,9.042)\n",
    "plt.xticks(size=20)\n",
    "plt.yticks(size=20)\n",
    "plt.xlabel(\"$I \\ / \\ \\mathrm{mA}$\", size=22)\n",
    "plt.ylabel(\"$V_{\\mathrm{i}} \\ / \\ \\mathrm{V}$\", size=22)\n",
    "plt.legend(fontsize=22)\n",
    "plt.savefig(\"UI_zadnji.png\")"
   ]
  },
  {
   "cell_type": "code",
   "execution_count": null,
   "metadata": {},
   "outputs": [],
   "source": []
  },
  {
   "cell_type": "code",
   "execution_count": null,
   "metadata": {},
   "outputs": [],
   "source": []
  },
  {
   "cell_type": "code",
   "execution_count": null,
   "metadata": {},
   "outputs": [],
   "source": []
  },
  {
   "cell_type": "code",
   "execution_count": 18,
   "metadata": {},
   "outputs": [
    {
     "data": {
      "text/plain": [
       "19.500000000000004"
      ]
     },
     "execution_count": 18,
     "metadata": {},
     "output_type": "execute_result"
    }
   ],
   "source": [
    "32.7-13.2"
   ]
  }
 ],
 "metadata": {
  "kernelspec": {
   "display_name": "Python 3",
   "language": "python",
   "name": "python3"
  },
  "language_info": {
   "codemirror_mode": {
    "name": "ipython",
    "version": 3
   },
   "file_extension": ".py",
   "mimetype": "text/x-python",
   "name": "python",
   "nbconvert_exporter": "python",
   "pygments_lexer": "ipython3",
   "version": "3.7.6"
  }
 },
 "nbformat": 4,
 "nbformat_minor": 4
}
