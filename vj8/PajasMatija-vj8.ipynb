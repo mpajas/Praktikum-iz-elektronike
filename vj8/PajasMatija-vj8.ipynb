{
 "cells": [
  {
   "cell_type": "code",
   "execution_count": 263,
   "metadata": {},
   "outputs": [],
   "source": [
    "import numpy as np\n",
    "import pandas as pd\n",
    "import matplotlib.pyplot as plt"
   ]
  },
  {
   "cell_type": "markdown",
   "metadata": {},
   "source": [
    "# Frekventna karakteristika niskopropusnog filtera"
   ]
  },
  {
   "cell_type": "code",
   "execution_count": 294,
   "metadata": {},
   "outputs": [],
   "source": [
    "vul = 0.1\n",
    "f = np.array([100,200,700,1000,1500,1600,1700,1800,1900,2000,2200,2400,2600,2800,3000,3500,4000,5000,7000,10000,20000,40000])\n",
    "viz = np.array([1,1,0.92,0.84,0.72,0.7,0.68,0.66,0.66,0.64,0.6,0.56,0.54,0.52,0.48,0.42,0.4,0.32,0.24,0.22,0.09,0.05])\n",
    "A = viz/vul\n",
    "data = {\"f\": f, \"v2\": viz, \"A\": A}"
   ]
  },
  {
   "cell_type": "code",
   "execution_count": 295,
   "metadata": {},
   "outputs": [],
   "source": [
    "df = pd.DataFrame(data, columns = [\"f\",\"v2\",\"A\"], \n",
    "                  index = range(1,len(data[\"f\"])+1))\n",
    "#df"
   ]
  },
  {
   "cell_type": "code",
   "execution_count": 296,
   "metadata": {},
   "outputs": [
    {
     "data": {
      "text/html": [
       "<div>\n",
       "<style scoped>\n",
       "    .dataframe tbody tr th:only-of-type {\n",
       "        vertical-align: middle;\n",
       "    }\n",
       "\n",
       "    .dataframe tbody tr th {\n",
       "        vertical-align: top;\n",
       "    }\n",
       "\n",
       "    .dataframe thead th {\n",
       "        text-align: right;\n",
       "    }\n",
       "</style>\n",
       "<table border=\"1\" class=\"dataframe\">\n",
       "  <thead>\n",
       "    <tr style=\"text-align: right;\">\n",
       "      <th></th>\n",
       "      <th>f</th>\n",
       "      <th>v2</th>\n",
       "      <th>A</th>\n",
       "    </tr>\n",
       "  </thead>\n",
       "  <tbody>\n",
       "    <tr>\n",
       "      <th>1</th>\n",
       "      <td>100</td>\n",
       "      <td>1.00</td>\n",
       "      <td>10.0</td>\n",
       "    </tr>\n",
       "    <tr>\n",
       "      <th>2</th>\n",
       "      <td>200</td>\n",
       "      <td>1.00</td>\n",
       "      <td>10.0</td>\n",
       "    </tr>\n",
       "    <tr>\n",
       "      <th>3</th>\n",
       "      <td>700</td>\n",
       "      <td>0.92</td>\n",
       "      <td>9.2</td>\n",
       "    </tr>\n",
       "    <tr>\n",
       "      <th>4</th>\n",
       "      <td>1000</td>\n",
       "      <td>0.84</td>\n",
       "      <td>8.4</td>\n",
       "    </tr>\n",
       "    <tr>\n",
       "      <th>5</th>\n",
       "      <td>1500</td>\n",
       "      <td>0.72</td>\n",
       "      <td>7.2</td>\n",
       "    </tr>\n",
       "    <tr>\n",
       "      <th>6</th>\n",
       "      <td>1600</td>\n",
       "      <td>0.70</td>\n",
       "      <td>7.0</td>\n",
       "    </tr>\n",
       "    <tr>\n",
       "      <th>7</th>\n",
       "      <td>1700</td>\n",
       "      <td>0.68</td>\n",
       "      <td>6.8</td>\n",
       "    </tr>\n",
       "    <tr>\n",
       "      <th>8</th>\n",
       "      <td>1800</td>\n",
       "      <td>0.66</td>\n",
       "      <td>6.6</td>\n",
       "    </tr>\n",
       "    <tr>\n",
       "      <th>9</th>\n",
       "      <td>1900</td>\n",
       "      <td>0.66</td>\n",
       "      <td>6.6</td>\n",
       "    </tr>\n",
       "    <tr>\n",
       "      <th>10</th>\n",
       "      <td>2000</td>\n",
       "      <td>0.64</td>\n",
       "      <td>6.4</td>\n",
       "    </tr>\n",
       "    <tr>\n",
       "      <th>11</th>\n",
       "      <td>2200</td>\n",
       "      <td>0.60</td>\n",
       "      <td>6.0</td>\n",
       "    </tr>\n",
       "    <tr>\n",
       "      <th>12</th>\n",
       "      <td>2400</td>\n",
       "      <td>0.56</td>\n",
       "      <td>5.6</td>\n",
       "    </tr>\n",
       "    <tr>\n",
       "      <th>13</th>\n",
       "      <td>2600</td>\n",
       "      <td>0.54</td>\n",
       "      <td>5.4</td>\n",
       "    </tr>\n",
       "    <tr>\n",
       "      <th>14</th>\n",
       "      <td>2800</td>\n",
       "      <td>0.52</td>\n",
       "      <td>5.2</td>\n",
       "    </tr>\n",
       "    <tr>\n",
       "      <th>15</th>\n",
       "      <td>3000</td>\n",
       "      <td>0.48</td>\n",
       "      <td>4.8</td>\n",
       "    </tr>\n",
       "    <tr>\n",
       "      <th>16</th>\n",
       "      <td>3500</td>\n",
       "      <td>0.42</td>\n",
       "      <td>4.2</td>\n",
       "    </tr>\n",
       "    <tr>\n",
       "      <th>17</th>\n",
       "      <td>4000</td>\n",
       "      <td>0.40</td>\n",
       "      <td>4.0</td>\n",
       "    </tr>\n",
       "    <tr>\n",
       "      <th>18</th>\n",
       "      <td>5000</td>\n",
       "      <td>0.32</td>\n",
       "      <td>3.2</td>\n",
       "    </tr>\n",
       "    <tr>\n",
       "      <th>19</th>\n",
       "      <td>7000</td>\n",
       "      <td>0.24</td>\n",
       "      <td>2.4</td>\n",
       "    </tr>\n",
       "    <tr>\n",
       "      <th>20</th>\n",
       "      <td>10000</td>\n",
       "      <td>0.22</td>\n",
       "      <td>2.2</td>\n",
       "    </tr>\n",
       "    <tr>\n",
       "      <th>21</th>\n",
       "      <td>20000</td>\n",
       "      <td>0.09</td>\n",
       "      <td>0.9</td>\n",
       "    </tr>\n",
       "    <tr>\n",
       "      <th>22</th>\n",
       "      <td>40000</td>\n",
       "      <td>0.05</td>\n",
       "      <td>0.5</td>\n",
       "    </tr>\n",
       "  </tbody>\n",
       "</table>\n",
       "</div>"
      ],
      "text/plain": [
       "        f    v2     A\n",
       "1     100  1.00  10.0\n",
       "2     200  1.00  10.0\n",
       "3     700  0.92   9.2\n",
       "4    1000  0.84   8.4\n",
       "5    1500  0.72   7.2\n",
       "6    1600  0.70   7.0\n",
       "7    1700  0.68   6.8\n",
       "8    1800  0.66   6.6\n",
       "9    1900  0.66   6.6\n",
       "10   2000  0.64   6.4\n",
       "11   2200  0.60   6.0\n",
       "12   2400  0.56   5.6\n",
       "13   2600  0.54   5.4\n",
       "14   2800  0.52   5.2\n",
       "15   3000  0.48   4.8\n",
       "16   3500  0.42   4.2\n",
       "17   4000  0.40   4.0\n",
       "18   5000  0.32   3.2\n",
       "19   7000  0.24   2.4\n",
       "20  10000  0.22   2.2\n",
       "21  20000  0.09   0.9\n",
       "22  40000  0.05   0.5"
      ]
     },
     "execution_count": 296,
     "metadata": {},
     "output_type": "execute_result"
    }
   ],
   "source": [
    "df"
   ]
  },
  {
   "cell_type": "code",
   "execution_count": 277,
   "metadata": {},
   "outputs": [
    {
     "data": {
      "text/plain": [
       "7.071067811865475"
      ]
     },
     "execution_count": 277,
     "metadata": {},
     "output_type": "execute_result"
    }
   ],
   "source": [
    "10/np.sqrt(2)"
   ]
  },
  {
   "cell_type": "code",
   "execution_count": 298,
   "metadata": {},
   "outputs": [],
   "source": [
    "f2 = 1600\n",
    "f = lambda x: 1/(np.sqrt(1+(x/f2)))\n",
    "xs = np.linspace(1,10**5,10**5+1)\n",
    "ys = f(xs)*10"
   ]
  },
  {
   "cell_type": "code",
   "execution_count": 308,
   "metadata": {},
   "outputs": [
    {
     "data": {
      "text/plain": [
       "5.6011203361120385"
      ]
     },
     "execution_count": 308,
     "metadata": {},
     "output_type": "execute_result"
    }
   ],
   "source": [
    "f(3500)*10"
   ]
  },
  {
   "cell_type": "code",
   "execution_count": 269,
   "metadata": {},
   "outputs": [
    {
     "name": "stderr",
     "output_type": "stream",
     "text": [
      "C:\\anaconda3\\lib\\site-packages\\ipykernel_launcher.py:10: UserWarning: Attempted to set non-positive left xlim on a log-scaled axis.\n",
      "Invalid limit will be ignored.\n",
      "  # Remove the CWD from sys.path while we load stuff.\n"
     ]
    },
    {
     "data": {
      "image/png": "[encoded data removed]",
      "text/plain": [
       "<Figure size 720x504 with 1 Axes>"
      ]
     },
     "metadata": {
      "needs_background": "light"
     },
     "output_type": "display_data"
    }
   ],
   "source": [
    "from pylab import rcParams\n",
    "rcParams['figure.figsize'] = (10, 7)\n",
    "A0 = 10\n",
    "p1 = df.plot.scatter(x = \"f\", y = \"A\", color = \"black\", label=\"Izmjereni podaci\")\n",
    "p1.set_title(\"Frekventna karakteristika niskopropusnog filtera\", fontsize=22)\n",
    "p1.set_xscale(\"log\")\n",
    "#p1.hlines(A0/np.sqrt(2), 0, 1e5, color = \"red\", linewidth = 1.2, label=f\"$A_0 = {A0}$\")\n",
    "#p1.hlines(A0/np.sqrt(2), 0, 1e7, color = \"red\", linewidth = 1.2, \n",
    "          #label=(r\"$\\dfrac{A_0}{\\sqrt{2}}=$ \" + str(round(A0/np.sqrt(2),3))))\n",
    "p1.set_xlim(0,1e5)\n",
    "#p1.set_ylim(0.4,0.9)\n",
    "p1.set_xlabel(\"$\\log{(f \\ / \\ \\mathrm{Hz})}$\", size=20)\n",
    "#p1.set_xlabel(\"$f \\ / \\ \\mathrm{Hz}$\", size=22)\n",
    "p1.set_ylabel(r\"$|A|$\", size=22)\n",
    "#p1.tick_params(axis=\"x\", labelsize=16, width=2, length=8)\n",
    "#p1.tick_params(axis=\"y\", labelsize=16, width=2, length=8)\n",
    "\n",
    "\n",
    "plt.scatter(1600,7, color=\"red\")\n",
    "p1.tick_params(axis='both', which='major', labelsize=20)\n",
    "\n",
    "plt.plot(xs,ys, linestyle=\"--\", color=\"black\", label=\"Ekstrapolacija podataka\")\n",
    "p1.legend(fontsize=16)\n",
    "p1.get_figure().savefig(\"frek_niskopropusni.png\")"
   ]
  },
  {
   "cell_type": "markdown",
   "metadata": {},
   "source": [
    "# Frekventna karakteristika visokopropusnog filtera"
   ]
  },
  {
   "cell_type": "code",
   "execution_count": 322,
   "metadata": {},
   "outputs": [],
   "source": [
    "vul = 1\n",
    "f = np.array([100000,25000,20000,10000,3000,1000,900,600,400,200,100,50,30,20])\n",
    "viz = np.array([0.4,0.36,0.34,0.31,0.3,0.28,0.28,0.26,0.25,0.2,0.1,0.08,0.06,0.04])\n",
    "A = viz/vul\n",
    "data = {\"f\": f, \"v2\": viz, \"A\": A}"
   ]
  },
  {
   "cell_type": "code",
   "execution_count": 323,
   "metadata": {},
   "outputs": [
    {
     "data": {
      "text/plain": [
       "0.282842712474619"
      ]
     },
     "execution_count": 323,
     "metadata": {},
     "output_type": "execute_result"
    }
   ],
   "source": [
    "0.4/np.sqrt(2)"
   ]
  },
  {
   "cell_type": "code",
   "execution_count": 324,
   "metadata": {},
   "outputs": [],
   "source": [
    "df = pd.DataFrame(data, columns = [\"f\",\"v2\",\"A\"], \n",
    "                  index = range(1,len(data[\"f\"])+1))"
   ]
  },
  {
   "cell_type": "code",
   "execution_count": 325,
   "metadata": {},
   "outputs": [
    {
     "data": {
      "text/html": [
       "<div>\n",
       "<style scoped>\n",
       "    .dataframe tbody tr th:only-of-type {\n",
       "        vertical-align: middle;\n",
       "    }\n",
       "\n",
       "    .dataframe tbody tr th {\n",
       "        vertical-align: top;\n",
       "    }\n",
       "\n",
       "    .dataframe thead th {\n",
       "        text-align: right;\n",
       "    }\n",
       "</style>\n",
       "<table border=\"1\" class=\"dataframe\">\n",
       "  <thead>\n",
       "    <tr style=\"text-align: right;\">\n",
       "      <th></th>\n",
       "      <th>f</th>\n",
       "      <th>v2</th>\n",
       "      <th>A</th>\n",
       "    </tr>\n",
       "  </thead>\n",
       "  <tbody>\n",
       "    <tr>\n",
       "      <th>1</th>\n",
       "      <td>100000</td>\n",
       "      <td>0.40</td>\n",
       "      <td>0.40</td>\n",
       "    </tr>\n",
       "    <tr>\n",
       "      <th>2</th>\n",
       "      <td>25000</td>\n",
       "      <td>0.36</td>\n",
       "      <td>0.36</td>\n",
       "    </tr>\n",
       "    <tr>\n",
       "      <th>3</th>\n",
       "      <td>20000</td>\n",
       "      <td>0.34</td>\n",
       "      <td>0.34</td>\n",
       "    </tr>\n",
       "    <tr>\n",
       "      <th>4</th>\n",
       "      <td>10000</td>\n",
       "      <td>0.31</td>\n",
       "      <td>0.31</td>\n",
       "    </tr>\n",
       "    <tr>\n",
       "      <th>5</th>\n",
       "      <td>3000</td>\n",
       "      <td>0.30</td>\n",
       "      <td>0.30</td>\n",
       "    </tr>\n",
       "    <tr>\n",
       "      <th>6</th>\n",
       "      <td>1000</td>\n",
       "      <td>0.28</td>\n",
       "      <td>0.28</td>\n",
       "    </tr>\n",
       "    <tr>\n",
       "      <th>7</th>\n",
       "      <td>900</td>\n",
       "      <td>0.28</td>\n",
       "      <td>0.28</td>\n",
       "    </tr>\n",
       "    <tr>\n",
       "      <th>8</th>\n",
       "      <td>600</td>\n",
       "      <td>0.26</td>\n",
       "      <td>0.26</td>\n",
       "    </tr>\n",
       "    <tr>\n",
       "      <th>9</th>\n",
       "      <td>400</td>\n",
       "      <td>0.25</td>\n",
       "      <td>0.25</td>\n",
       "    </tr>\n",
       "    <tr>\n",
       "      <th>10</th>\n",
       "      <td>200</td>\n",
       "      <td>0.20</td>\n",
       "      <td>0.20</td>\n",
       "    </tr>\n",
       "    <tr>\n",
       "      <th>11</th>\n",
       "      <td>100</td>\n",
       "      <td>0.10</td>\n",
       "      <td>0.10</td>\n",
       "    </tr>\n",
       "    <tr>\n",
       "      <th>12</th>\n",
       "      <td>50</td>\n",
       "      <td>0.08</td>\n",
       "      <td>0.08</td>\n",
       "    </tr>\n",
       "    <tr>\n",
       "      <th>13</th>\n",
       "      <td>30</td>\n",
       "      <td>0.06</td>\n",
       "      <td>0.06</td>\n",
       "    </tr>\n",
       "    <tr>\n",
       "      <th>14</th>\n",
       "      <td>20</td>\n",
       "      <td>0.04</td>\n",
       "      <td>0.04</td>\n",
       "    </tr>\n",
       "  </tbody>\n",
       "</table>\n",
       "</div>"
      ],
      "text/plain": [
       "         f    v2     A\n",
       "1   100000  0.40  0.40\n",
       "2    25000  0.36  0.36\n",
       "3    20000  0.34  0.34\n",
       "4    10000  0.31  0.31\n",
       "5     3000  0.30  0.30\n",
       "6     1000  0.28  0.28\n",
       "7      900  0.28  0.28\n",
       "8      600  0.26  0.26\n",
       "9      400  0.25  0.25\n",
       "10     200  0.20  0.20\n",
       "11     100  0.10  0.10\n",
       "12      50  0.08  0.08\n",
       "13      30  0.06  0.06\n",
       "14      20  0.04  0.04"
      ]
     },
     "execution_count": 325,
     "metadata": {},
     "output_type": "execute_result"
    }
   ],
   "source": [
    "df"
   ]
  },
  {
   "cell_type": "code",
   "execution_count": 330,
   "metadata": {},
   "outputs": [],
   "source": [
    "f1 = 322\n",
    "f = lambda x: 1/(np.sqrt(1+(f1/x)))\n",
    "xs = np.linspace(1,10**5,10**5+1)\n",
    "ys = f(xs)*0.4"
   ]
  },
  {
   "cell_type": "code",
   "execution_count": 332,
   "metadata": {},
   "outputs": [
    {
     "data": {
      "text/plain": [
       "0.24759378423606915"
      ]
     },
     "execution_count": 332,
     "metadata": {},
     "output_type": "execute_result"
    }
   ],
   "source": [
    "f(200)*0.4"
   ]
  },
  {
   "cell_type": "code",
   "execution_count": 333,
   "metadata": {},
   "outputs": [
    {
     "name": "stderr",
     "output_type": "stream",
     "text": [
      "C:\\anaconda3\\lib\\site-packages\\ipykernel_launcher.py:10: UserWarning: Attempted to set non-positive left xlim on a log-scaled axis.\n",
      "Invalid limit will be ignored.\n",
      "  # Remove the CWD from sys.path while we load stuff.\n"
     ]
    },
    {
     "data": {
      "image/png": "[encoded data removed]",
      "text/plain": [
       "<Figure size 720x504 with 1 Axes>"
      ]
     },
     "metadata": {
      "needs_background": "light"
     },
     "output_type": "display_data"
    }
   ],
   "source": [
    "from pylab import rcParams\n",
    "rcParams['figure.figsize'] = (10, 7)\n",
    "A0 = 0.4\n",
    "p1 = df.plot.scatter(x = \"f\", y = \"A\", color = \"black\", label=\"Izmjereni podaci\")\n",
    "p1.set_title(\"Frekventna karakteristika visokopropusnog filtera\", fontsize=22)\n",
    "p1.set_xscale(\"log\")\n",
    "#p1.hlines(2.8, 0, 1e5, color = \"red\", linewidth = 1.2, label=f\"$A_0 = {A0}$\")\n",
    "#p1.hlines(A0/np.sqrt(2), 0, 1e7, color = \"red\", linewidth = 1.2, \n",
    "          #label=(r\"$\\dfrac{A_0}{\\sqrt{2}}=$ \" + str(round(A0/np.sqrt(2),3))))\n",
    "p1.set_xlim(0,1e5+10000)\n",
    "#p1.set_ylim(0,0.5)\n",
    "p1.set_xlabel(\"$\\log{(f \\ / \\ \\mathrm{Hz})}$\", size=20)\n",
    "#p1.set_xlabel(\"$f \\ / \\ \\mathrm{Hz}$\", size=22)\n",
    "p1.set_ylabel(r\"$|A|$\", size=22)\n",
    "#p1.tick_params(axis=\"x\", labelsize=16, width=2, length=8)\n",
    "#p1.tick_params(axis=\"y\", labelsize=16, width=2, length=8)\n",
    "\n",
    "\n",
    "#plt.scatter(1600,7, color=\"red\")\n",
    "plt.scatter(900,A0/np.sqrt(2),color=\"red\")\n",
    "p1.tick_params(axis='both', which='major', labelsize=20)\n",
    "\n",
    "plt.plot(xs,ys, linestyle=\"--\", color=\"black\", label=\"Ekstrapolacija podataka\")\n",
    "p1.legend(fontsize=16)\n",
    "p1.get_figure().savefig(\"frek_visokopropusni.png\")"
   ]
  },
  {
   "cell_type": "code",
   "execution_count": 321,
   "metadata": {},
   "outputs": [
    {
     "data": {
      "text/plain": [
       "321.5251375593845"
      ]
     },
     "execution_count": 321,
     "metadata": {},
     "output_type": "execute_result"
    }
   ],
   "source": [
    "1/(2*np.pi*(330*1e3)*(1.5*1e-9))"
   ]
  },
  {
   "cell_type": "code",
   "execution_count": null,
   "metadata": {},
   "outputs": [],
   "source": []
  },
  {
   "cell_type": "code",
   "execution_count": null,
   "metadata": {},
   "outputs": [],
   "source": []
  },
  {
   "cell_type": "code",
   "execution_count": null,
   "metadata": {},
   "outputs": [],
   "source": []
  },
  {
   "cell_type": "code",
   "execution_count": null,
   "metadata": {},
   "outputs": [],
   "source": []
  },
  {
   "cell_type": "code",
   "execution_count": null,
   "metadata": {},
   "outputs": [],
   "source": []
  }
 ],
 "metadata": {
  "kernelspec": {
   "display_name": "Python 3",
   "language": "python",
   "name": "python3"
  },
  "language_info": {
   "codemirror_mode": {
    "name": "ipython",
    "version": 3
   },
   "file_extension": ".py",
   "mimetype": "text/x-python",
   "name": "python",
   "nbconvert_exporter": "python",
   "pygments_lexer": "ipython3",
   "version": "3.7.6"
  }
 },
 "nbformat": 4,
 "nbformat_minor": 4
}
